{
 "cells": [
  {
   "cell_type": "code",
   "execution_count": 10,
   "metadata": {},
   "outputs": [],
   "source": [
    "import pandas as pd"
   ]
  },
  {
   "cell_type": "code",
   "execution_count": 11,
   "metadata": {},
   "outputs": [],
   "source": [
    "df = pd.read_excel('../data/해외입국자.xlsx')"
   ]
  },
  {
   "cell_type": "code",
   "execution_count": 12,
   "metadata": {
    "scrolled": true
   },
   "outputs": [],
   "source": [
    "df.columns = ['Date', 'Sum', 'China', 'Asia', 'Europe', 'America', 'Africa', 'Oceania', 'total' ]"
   ]
  },
  {
   "cell_type": "code",
   "execution_count": 13,
   "metadata": {},
   "outputs": [],
   "source": [
    "df['Date'] = df['Date'].apply(lambda x : int( str(x).replace('-','').replace(' 00:00:00','')))"
   ]
  },
  {
   "cell_type": "code",
   "execution_count": 14,
   "metadata": {},
   "outputs": [],
   "source": [
    "df.sort_index(ascending=False, inplace=True)"
   ]
  },
  {
   "cell_type": "code",
   "execution_count": 15,
   "metadata": {},
   "outputs": [],
   "source": [
    "China_df = df[ ['Date', 'China'] ]\n",
    "Asia_df = df[ [ 'Date', 'Asia' ] ]\n",
    "Europe_df = df[ [ 'Date', 'Europe' ] ]\n",
    "America_df = df[ [ 'Date', 'America' ] ]\n",
    "Africa_df = df[ [ 'Date', 'Africa' ] ]\n",
    "Oceania_df = df[ [ 'Date', 'Oceania' ] ]"
   ]
  },
  {
   "cell_type": "code",
   "execution_count": 16,
   "metadata": {},
   "outputs": [],
   "source": [
    "#China_group_df = China_df.groupby(China_df['Date']).count()\n",
    "#Asia_group_df = Asia_df.groupby(Asia_df['Date']).count()\n",
    "#America_group_df = America_df.groupby(America_df['Date']).count()\n",
    "#Africa_group_df = Africa_df.groupby(Africa_df['Date']).count()\n",
    "#Europe_group_df = Europe_df.groupby(Europe_df['Date']).count()\n",
    "#Oceania_group_df = Oceania_df.groupby(Oseania_df['Date']).count()"
   ]
  },
  {
   "cell_type": "code",
   "execution_count": 17,
   "metadata": {},
   "outputs": [],
   "source": [
    "China_df.to_csv('../data/Entry/China_group_df.csv', index=False)\n",
    "Asia_df.to_csv('../data/Entry/Asia_group_df.csv', index=False)\n",
    "America_df.to_csv('../data/Entry/America_group_df.csv', index=False)\n",
    "Africa_df.to_csv('../data/Entry/Africa_group_df.csv', index=False)\n",
    "Europe_df.to_csv('../data/Entry/Europe_group_df.csv', index=False)\n",
    "Oceania_df.to_csv('../data/Entry/Oceania_group_df.csv', index=False)"
   ]
  },
  {
   "cell_type": "code",
   "execution_count": null,
   "metadata": {},
   "outputs": [],
   "source": []
  },
  {
   "cell_type": "code",
   "execution_count": null,
   "metadata": {},
   "outputs": [],
   "source": []
  }
 ],
 "metadata": {
  "kernelspec": {
   "display_name": "Python 3",
   "language": "python",
   "name": "python3"
  },
  "language_info": {
   "codemirror_mode": {
    "name": "ipython",
    "version": 3
   },
   "file_extension": ".py",
   "mimetype": "text/x-python",
   "name": "python",
   "nbconvert_exporter": "python",
   "pygments_lexer": "ipython3",
   "version": "3.7.6"
  }
 },
 "nbformat": 4,
 "nbformat_minor": 4
}
