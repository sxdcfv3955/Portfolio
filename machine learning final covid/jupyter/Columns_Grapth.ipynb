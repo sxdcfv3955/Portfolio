{
 "cells": [
  {
   "cell_type": "code",
   "execution_count": null,
   "metadata": {
    "scrolled": true
   },
   "outputs": [
    {
     "name": "stderr",
     "output_type": "stream",
     "text": [
      "Using TensorFlow backend.\n",
      "C:\\Users\\admin\\Anaconda3\\lib\\site-packages\\tensorflow\\python\\framework\\dtypes.py:516: FutureWarning: Passing (type, 1) or '1type' as a synonym of type is deprecated; in a future version of numpy, it will be understood as (type, (1,)) / '(1,)type'.\n",
      "  _np_qint8 = np.dtype([(\"qint8\", np.int8, 1)])\n",
      "C:\\Users\\admin\\Anaconda3\\lib\\site-packages\\tensorflow\\python\\framework\\dtypes.py:517: FutureWarning: Passing (type, 1) or '1type' as a synonym of type is deprecated; in a future version of numpy, it will be understood as (type, (1,)) / '(1,)type'.\n",
      "  _np_quint8 = np.dtype([(\"quint8\", np.uint8, 1)])\n",
      "C:\\Users\\admin\\Anaconda3\\lib\\site-packages\\tensorflow\\python\\framework\\dtypes.py:518: FutureWarning: Passing (type, 1) or '1type' as a synonym of type is deprecated; in a future version of numpy, it will be understood as (type, (1,)) / '(1,)type'.\n",
      "  _np_qint16 = np.dtype([(\"qint16\", np.int16, 1)])\n",
      "C:\\Users\\admin\\Anaconda3\\lib\\site-packages\\tensorflow\\python\\framework\\dtypes.py:519: FutureWarning: Passing (type, 1) or '1type' as a synonym of type is deprecated; in a future version of numpy, it will be understood as (type, (1,)) / '(1,)type'.\n",
      "  _np_quint16 = np.dtype([(\"quint16\", np.uint16, 1)])\n",
      "C:\\Users\\admin\\Anaconda3\\lib\\site-packages\\tensorflow\\python\\framework\\dtypes.py:520: FutureWarning: Passing (type, 1) or '1type' as a synonym of type is deprecated; in a future version of numpy, it will be understood as (type, (1,)) / '(1,)type'.\n",
      "  _np_qint32 = np.dtype([(\"qint32\", np.int32, 1)])\n",
      "C:\\Users\\admin\\Anaconda3\\lib\\site-packages\\tensorflow\\python\\framework\\dtypes.py:525: FutureWarning: Passing (type, 1) or '1type' as a synonym of type is deprecated; in a future version of numpy, it will be understood as (type, (1,)) / '(1,)type'.\n",
      "  np_resource = np.dtype([(\"resource\", np.ubyte, 1)])\n"
     ]
    }
   ],
   "source": [
    "%matplotlib inline\n",
    "\n",
    "import matplotlib.pyplot as plt\n",
    "import numpy as np\n",
    "import pandas as pd\n",
    "from keras.layers import *\n",
    "from keras.models import *\n",
    "from keras.utils import *\n",
    "from sklearn.preprocessing import *\n",
    "import keras.backend as K\n",
    "from keras.models import Model\n",
    "from keras.layers import Input, Dense, LSTM, Bidirectional\n",
    "from keras.callbacks import EarlyStopping\n",
    "from keras.models import load_model"
   ]
  },
  {
   "cell_type": "code",
   "execution_count": null,
   "metadata": {},
   "outputs": [],
   "source": [
    "China_df.columns"
   ]
  },
  {
   "cell_type": "code",
   "execution_count": 87,
   "metadata": {},
   "outputs": [],
   "source": [
    "def make_df(DataFrame) : \n",
    "    df = pd.DataFrame()\n",
    "\n",
    "    df['Confirm'] = (DataFrame['Daily_confirmed'] + DataFrame['Daily_deaths']) / DataFrame['Total_confirmed']\n",
    "    df['Flight'] = DataFrame['Passenger_arrivals'] / DataFrame['Flight_arrivals']\n",
    "    df['Ship'] = ( DataFrame['Ship_crew(korea)'] + DataFrame['Ship_crew(foreign)'] + DataFrame['Ship_passenger'] ) / DataFrame['Ship_count']\n",
    "    df['News'] = DataFrame['News_Negative'] / DataFrame['News_Sum']\n",
    "    df['Date'] = DataFrame['Date'].astype(int)\n",
    "\n",
    "    df.fillna(0, inplace = True)\n",
    "    df.set_index('Date',inplace=True)\n",
    "    \n",
    "    \n",
    "\n",
    "    df = df.loc[20200101:20200505]\n",
    "    \n",
    "    Flight_df = pd.DataFrame(df['Flight'])\n",
    "    Flight_df.columns = ['Flight']\n",
    "\n",
    "    Ship_df = pd.DataFrame(df['Ship'])\n",
    "    Ship_df.columns = ['Ship']\n",
    "\n",
    "    Confirm_df = pd.DataFrame(df['Confirm'])\n",
    "    Confirm_df.columns = ['Confirm']\n",
    "\n",
    "    News_df = pd.DataFrame(df['News'])\n",
    "    News_df.columns = ['News']\n",
    "    \n",
    "    return Flight_df, Ship_df, Confirm_df, News_df"
   ]
  },
  {
   "cell_type": "code",
   "execution_count": 88,
   "metadata": {
    "scrolled": false
   },
   "outputs": [],
   "source": [
    "def make_x_train_test(DataFrame) : \n",
    "    \n",
    "    shift_size = 7\n",
    "    \n",
    "    y_test = np.asarray(DataFrame[name][shift_size:-1])[-7:]\n",
    "    df = DataFrame[:-7]\n",
    "    \n",
    "    for s in range(1, shift_size+1):\n",
    "        df['shift_{}'.format(s)] = df[name].shift(s)\n",
    "          \n",
    "    y_train = np.asarray(df[name][shift_size:-1])[:-7]\n",
    "    \n",
    "    df.drop( name, axis=1, inplace=True)\n",
    "    \n",
    "    X_train = np.array(df[shift_size:-1])[:-7]\n",
    "    X_test = np.array(df[-1:])[-7:]\n",
    "\n",
    "    X_train_r = X_train.reshape(X_train.shape[0],X_train.shape[1],1)\n",
    "    X_test_r = X_test.reshape(X_test.shape[0],X_test.shape[1],1)\n",
    "      \n",
    "    return X_train_r, X_test_r, y_train, y_test"
   ]
  },
  {
   "cell_type": "code",
   "execution_count": 89,
   "metadata": {},
   "outputs": [],
   "source": [
    "China_df = pd.read_csv('../data/Concat/China_concat.csv', header=0)\n",
    "Asia_df = pd.read_csv('../data/Concat/Asia_concat.csv', header=0)\n",
    "America_df = pd.read_csv('../data/Concat/America_concat.csv', header=0)\n",
    "Africa_df = pd.read_csv('../data/Concat/Africa_concat.csv', header=0)\n",
    "Europe_df = pd.read_csv('../data/Concat/Europe_concat.csv', header=0)\n",
    "Oceania_df = pd.read_csv('../data/Concat/Oceania_concat.csv', header=0)"
   ]
  },
  {
   "cell_type": "code",
   "execution_count": 90,
   "metadata": {},
   "outputs": [],
   "source": [
    "China_test = pd.read_csv('../data/Test/China_test_data.csv', header=0)\n",
    "Asia_test = pd.read_csv('../data/Test/Asia_test_data.csv', header=0)\n",
    "America_test = pd.read_csv('../data/Test/America_test_data.csv', header=0)\n",
    "Africa_test = pd.read_csv('../data/Test/Africa_test_data.csv', header=0)\n",
    "Europe_test = pd.read_csv('../data/Test/Europe_test_data.csv', header=0)\n",
    "Oceania_test = pd.read_csv('../data/Test/Oceania_test_data.csv', header=0)"
   ]
  },
  {
   "cell_type": "code",
   "execution_count": 143,
   "metadata": {
    "scrolled": true
   },
   "outputs": [
    {
     "name": "stderr",
     "output_type": "stream",
     "text": [
      "C:\\Users\\admin\\Anaconda3\\lib\\site-packages\\ipykernel_launcher.py:9: SettingWithCopyWarning: \n",
      "A value is trying to be set on a copy of a slice from a DataFrame.\n",
      "Try using .loc[row_indexer,col_indexer] = value instead\n",
      "\n",
      "See the caveats in the documentation: https://pandas.pydata.org/pandas-docs/stable/user_guide/indexing.html#returning-a-view-versus-a-copy\n",
      "  if __name__ == '__main__':\n",
      "C:\\Users\\admin\\Anaconda3\\lib\\site-packages\\pandas\\core\\frame.py:3997: SettingWithCopyWarning: \n",
      "A value is trying to be set on a copy of a slice from a DataFrame\n",
      "\n",
      "See the caveats in the documentation: https://pandas.pydata.org/pandas-docs/stable/user_guide/indexing.html#returning-a-view-versus-a-copy\n",
      "  errors=errors,\n"
     ]
    }
   ],
   "source": [
    "name = 'Flight'\n",
    "\n",
    "Flight_df, Ship_df, Confirm_df, News_df = make_df(Asia_df)\n",
    "\n",
    "df = Flight_df\n",
    "\n",
    "sc = MinMaxScaler()\n",
    "df = sc.fit_transform(df)\n",
    "df = pd.DataFrame(df, columns=[name])\n",
    "\n",
    "X_train, X_test, y_train, y_test = make_x_train_test(df)\n",
    "y_hat = abs( np.array(Asia_test[name]) )"
   ]
  },
  {
   "cell_type": "code",
   "execution_count": 144,
   "metadata": {
    "scrolled": false
   },
   "outputs": [
    {
     "data": {
      "image/png": "[encoded data removed]",
      "text/plain": [
       "<Figure size 720x432 with 1 Axes>"
      ]
     },
     "metadata": {
      "needs_background": "light"
     },
     "output_type": "display_data"
    }
   ],
   "source": [
    "a_axis = np.arange(0, len(y_train))\n",
    "b_axis = np.arange(len(y_train), len(y_train) + len(y_hat))\n",
    "\n",
    "plt.figure(figsize=(10,6))\n",
    "plt.plot(a_axis, y_train.reshape(104,), 'o-', color='dodgerblue')\n",
    "plt.plot(b_axis, y_test.reshape(7,), 'o-', color='mediumturquoise', label='Actual')\n",
    "plt.plot(b_axis, y_hat.reshape(7,), 'o-', color='red', label='Predicted')\n",
    "plt.legend()\n",
    "plt.show()"
   ]
  },
  {
   "cell_type": "code",
   "execution_count": 93,
   "metadata": {},
   "outputs": [
    {
     "name": "stdout",
     "output_type": "stream",
     "text": [
      "[0.03252158 0.03328363 0.03343622 0.03583413 0.03656565 0.03366818\n",
      " 0.03393965]\n"
     ]
    }
   ],
   "source": [
    "print(y_test)"
   ]
  },
  {
   "cell_type": "code",
   "execution_count": 71,
   "metadata": {},
   "outputs": [
    {
     "name": "stdout",
     "output_type": "stream",
     "text": [
      "[0.04877223 0.06018226 0.06587315 0.07068551 0.0608587  0.05606272\n",
      " 0.03494135]\n"
     ]
    }
   ],
   "source": [
    "print(y_hat)"
   ]
  },
  {
   "cell_type": "code",
   "execution_count": null,
   "metadata": {},
   "outputs": [],
   "source": []
  },
  {
   "cell_type": "code",
   "execution_count": null,
   "metadata": {},
   "outputs": [],
   "source": []
  },
  {
   "cell_type": "code",
   "execution_count": null,
   "metadata": {},
   "outputs": [],
   "source": []
  }
 ],
 "metadata": {
  "kernelspec": {
   "display_name": "Python 3",
   "language": "python",
   "name": "python3"
  },
  "language_info": {
   "codemirror_mode": {
    "name": "ipython",
    "version": 3
   },
   "file_extension": ".py",
   "mimetype": "text/x-python",
   "name": "python",
   "nbconvert_exporter": "python",
   "pygments_lexer": "ipython3",
   "version": "3.7.6"
  }
 },
 "nbformat": 4,
 "nbformat_minor": 4
}
